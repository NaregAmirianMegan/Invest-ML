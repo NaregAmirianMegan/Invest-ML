{
 "cells": [
  {
   "cell_type": "code",
   "execution_count": 1,
   "metadata": {},
   "outputs": [],
   "source": [
    "#imports\n",
    "import tensorflow as tf \n",
    "import numpy as np"
   ]
  },
  {
   "cell_type": "code",
   "execution_count": 2,
   "metadata": {},
   "outputs": [],
   "source": [
    "#data\n",
    "def generate_training_data(data_points, seq_length):\n",
    "\tx_data = []\n",
    "\ty_data = []\n",
    "\tfor _ in range(data_points):\n",
    "\t\tx_point = np.random.randint(0, high=9, size=(seq_length))\n",
    "\t\tx_data.append(x_point)\n",
    "\t\ty_data.append(np.sum(x_point))\n",
    "\treturn np.array(x_data), np.array(y_data)\n",
    "\n",
    "X, Y = generate_training_data(1000, 5)"
   ]
  },
  {
   "cell_type": "code",
   "execution_count": 3,
   "metadata": {},
   "outputs": [],
   "source": [
    "#constants\n",
    "seq_len = 5\n",
    "n_hidden = 30\n",
    "n_outputs = 1"
   ]
  },
  {
   "cell_type": "code",
   "execution_count": 4,
   "metadata": {},
   "outputs": [],
   "source": [
    "#model\n",
    "x = tf.placeholder(tf.float32, [None, seq_len, 1])\n",
    "y = tf.placeholder(tf.float32, [None, 1])\n",
    "\n",
    "cell = tf.nn.rnn_cell.LSTMCell(n_hidden)\n",
    "outputs, state = tf.nn.dynamic_rnn(cell, x, dtype=tf.float32)\n"
   ]
  },
  {
   "cell_type": "code",
   "execution_count": 6,
   "metadata": {},
   "outputs": [
    {
     "name": "stdout",
     "output_type": "stream",
     "text": [
      "LSTMStateTuple(c=<tf.Tensor 'rnn/while/Exit_3:0' shape=(?, 30) dtype=float32>, h=<tf.Tensor 'rnn/while/Exit_4:0' shape=(?, 30) dtype=float32>)\n"
     ]
    }
   ],
   "source": []
  },
  {
   "cell_type": "code",
   "execution_count": null,
   "metadata": {},
   "outputs": [],
   "source": []
  }
 ],
 "metadata": {
  "kernelspec": {
   "display_name": "Python 3",
   "language": "python",
   "name": "python3"
  },
  "language_info": {
   "codemirror_mode": {
    "name": "ipython",
    "version": 3
   },
   "file_extension": ".py",
   "mimetype": "text/x-python",
   "name": "python",
   "nbconvert_exporter": "python",
   "pygments_lexer": "ipython3",
   "version": "3.6.6"
  }
 },
 "nbformat": 4,
 "nbformat_minor": 2
}
